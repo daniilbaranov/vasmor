{
 "cells": [
  {
   "cell_type": "markdown",
   "metadata": {},
   "source": [
    "# Занятие 3"
   ]
  },
  {
   "cell_type": "markdown",
   "metadata": {},
   "source": [
    " # 1. Полезные фишки"
   ]
  },
  {
   "cell_type": "markdown",
   "metadata": {},
   "source": [
    "Функции max/min из любого числа элементов (чисел, переменных или выражений) выбирает наибольшее/наименьшее"
   ]
  },
  {
   "cell_type": "code",
   "execution_count": 1,
   "metadata": {
    "collapsed": false
   },
   "outputs": [
    {
     "name": "stdout",
     "output_type": "stream",
     "text": [
      "2 -14\n"
     ]
    }
   ],
   "source": [
    "x = 1\n",
    "y = 2\n",
    "z = -10\n",
    "print (max(x, y, z), min(x, y, z, z - 2 * y, -5, 100))"
   ]
  },
  {
   "cell_type": "markdown",
   "metadata": {},
   "source": [
    "Чтобы сэкономить свои силы и уменьшить число строк в коде, можно использовать следующее:"
   ]
  },
  {
   "cell_type": "code",
   "execution_count": 2,
   "metadata": {
    "collapsed": false
   },
   "outputs": [
    {
     "name": "stdout",
     "output_type": "stream",
     "text": [
      "5 6 3\n"
     ]
    }
   ],
   "source": [
    "a, b, c = 5, 6, 3\n",
    "print (a, b, c)"
   ]
  },
  {
   "cell_type": "markdown",
   "metadata": {},
   "source": [
    "Обмен переменных значениями:"
   ]
  },
  {
   "cell_type": "code",
   "execution_count": 3,
   "metadata": {
    "collapsed": false
   },
   "outputs": [
    {
     "name": "stdout",
     "output_type": "stream",
     "text": [
      "3 5\n"
     ]
    }
   ],
   "source": [
    "a = 5\n",
    "b = 3\n",
    "a, b = b, a\n",
    "print (a, b)"
   ]
  },
  {
   "cell_type": "markdown",
   "metadata": {},
   "source": [
    "# 2. Циклы"
   ]
  },
  {
   "cell_type": "markdown",
   "metadata": {},
   "source": [
    "Один из циклов в Python: while. Он работает по следующему принципу:"
   ]
  },
  {
   "cell_type": "markdown",
   "metadata": {},
   "source": [
    "while условие:\n",
    "\n",
    "    действие"
   ]
  },
  {
   "cell_type": "markdown",
   "metadata": {},
   "source": [
    "Сначала проверяется условие. Если оно выполняется (верно), то программа переходит к телу цикла (к тому, что надо делать). Затем программа снова возвращается к проверке условия. И так по кругу до тех пор, пока условие не перестанет выполняться."
   ]
  },
  {
   "cell_type": "markdown",
   "metadata": {},
   "source": [
    "Рассмотрим простейший пример. Выведем значения всех целых чисел от 5 до 9 включительно:"
   ]
  },
  {
   "cell_type": "code",
   "execution_count": 4,
   "metadata": {
    "collapsed": false
   },
   "outputs": [
    {
     "name": "stdout",
     "output_type": "stream",
     "text": [
      "5\n",
      "6\n",
      "7\n",
      "8\n",
      "9\n"
     ]
    }
   ],
   "source": [
    "x = 5\n",
    "while x < 10:\n",
    "    print (x)\n",
    "    x += 1"
   ]
  },
  {
   "cell_type": "markdown",
   "metadata": {},
   "source": [
    "Другой цикл в Python: for. Он работает по следующему принципу:"
   ]
  },
  {
   "cell_type": "markdown",
   "metadata": {},
   "source": [
    "for переменная in условие на переменную:\n",
    "   \n",
    "    действие"
   ]
  },
  {
   "cell_type": "markdown",
   "metadata": {},
   "source": [
    "Сначала проверяется, удовлетворяет ли переменная условию на эту переменную (некое множество). Если так, то выполняется тело цикла. Далее снова осуществляется проверка переменной, но переменная уже является другим элементом множества. И так до тех пор, пока условие выполняется."
   ]
  },
  {
   "cell_type": "markdown",
   "metadata": {},
   "source": [
    "В качестве условия на переменную обычно выступает range. Он бывает трех видов:"
   ]
  },
  {
   "cell_type": "markdown",
   "metadata": {},
   "source": [
    "1. range(b). Вместо b любое число или переменная со значением. Рассматривается множество целых чисел [0; b-1]\n",
    "2. range(a, b). Вместо a и b целые числа или переменные со значением. Рассматривается множество целых чисел [a, b-1]\n",
    "3. range(a, b, i). Вместо a, b и i целые числа или переменные со значением. Рассматривается множество целых чисел [a, b-1], если i>0  (a+i, a+2i и т.д.), и множество целых чисел [b + 1, a], если i<0 (a+i, a+2i и т.д). range(a, b, i), где i=1, эквивалентно range(a, b)"
   ]
  },
  {
   "cell_type": "markdown",
   "metadata": {},
   "source": [
    "Рассмотрим тот же простейший пример (вывести все целые числа от 5 до 9 включительно):"
   ]
  },
  {
   "cell_type": "code",
   "execution_count": 5,
   "metadata": {
    "collapsed": false
   },
   "outputs": [
    {
     "name": "stdout",
     "output_type": "stream",
     "text": [
      "5\n",
      "6\n",
      "7\n",
      "8\n",
      "9\n"
     ]
    }
   ],
   "source": [
    "for x in range(5, 10):\n",
    "    print (x)"
   ]
  },
  {
   "cell_type": "markdown",
   "metadata": {},
   "source": [
    "Здесь x присваиваются значения из множества [5, 9] в следующем порядке: 5, 6, 7, 8, 9. Затем x присваивается значение 10, и цикл завершается, так как не выполняется условие."
   ]
  },
  {
   "cell_type": "markdown",
   "metadata": {},
   "source": [
    "Рассмотрим другой пример. Для всех чисел от 0 до 7 вывести эти числа, умноженные на -1:"
   ]
  },
  {
   "cell_type": "code",
   "execution_count": 6,
   "metadata": {
    "collapsed": false
   },
   "outputs": [
    {
     "name": "stdout",
     "output_type": "stream",
     "text": [
      "0\n",
      "-1\n",
      "-2\n",
      "-3\n",
      "-4\n",
      "-5\n",
      "-6\n",
      "-7\n"
     ]
    }
   ],
   "source": [
    "for x in range(8):\n",
    "    print (-x)"
   ]
  },
  {
   "cell_type": "markdown",
   "metadata": {},
   "source": [
    "Еще один пример. Вывести все четные числа от 2 до 10 включительно:"
   ]
  },
  {
   "cell_type": "code",
   "execution_count": 7,
   "metadata": {
    "collapsed": false
   },
   "outputs": [
    {
     "name": "stdout",
     "output_type": "stream",
     "text": [
      "2\n",
      "4\n",
      "6\n",
      "8\n",
      "10\n"
     ]
    }
   ],
   "source": [
    "for i in range(2, 11, 2):\n",
    "    print (i)"
   ]
  },
  {
   "cell_type": "markdown",
   "metadata": {},
   "source": [
    "А теперь в обратном порядке:"
   ]
  },
  {
   "cell_type": "code",
   "execution_count": 8,
   "metadata": {
    "collapsed": false
   },
   "outputs": [
    {
     "name": "stdout",
     "output_type": "stream",
     "text": [
      "10\n",
      "8\n",
      "6\n",
      "4\n",
      "2\n"
     ]
    }
   ],
   "source": [
    "for i in range (10, 1, -2):\n",
    "    print (i)"
   ]
  },
  {
   "cell_type": "markdown",
   "metadata": {},
   "source": [
    "# 3. Вложенные циклы"
   ]
  },
  {
   "cell_type": "markdown",
   "metadata": {},
   "source": [
    "Вложенные циклы имеют тот же принцип, что и вложенные условные операторы. Выведем все положительные четные числа до 20:"
   ]
  },
  {
   "cell_type": "code",
   "execution_count": 9,
   "metadata": {
    "collapsed": false
   },
   "outputs": [
    {
     "name": "stdout",
     "output_type": "stream",
     "text": [
      "0\n",
      "2\n",
      "4\n",
      "6\n",
      "8\n",
      "10\n",
      "12\n",
      "14\n",
      "16\n",
      "18\n"
     ]
    }
   ],
   "source": [
    "for i in range (0, 2):\n",
    "    for j in range (0, 10, 2):\n",
    "        print (i * 10 + j)"
   ]
  },
  {
   "cell_type": "markdown",
   "metadata": {},
   "source": [
    "Вложенный цикл выполняется для каждого значения из предшествующего цикла. При этом то значение как бы \"фиксируется\". В данном примере вложенный цикл сначала выполняется при \"фиксированном\" i=0, затем при \"фиксированном\" i=1."
   ]
  },
  {
   "cell_type": "markdown",
   "metadata": {},
   "source": [
    "# 4. Бесконечные циклы. Кодовые слова для циклов."
   ]
  },
  {
   "cell_type": "markdown",
   "metadata": {},
   "source": [
    "Цикл будет бесконечным, если его условие всегда выполняется. Например:"
   ]
  },
  {
   "cell_type": "code",
   "execution_count": null,
   "metadata": {
    "collapsed": true
   },
   "outputs": [],
   "source": [
    "while True:\n",
    "    что-то"
   ]
  },
  {
   "cell_type": "markdown",
   "metadata": {},
   "source": [
    "Или:"
   ]
  },
  {
   "cell_type": "code",
   "execution_count": null,
   "metadata": {
    "collapsed": true
   },
   "outputs": [],
   "source": [
    "x = что-то\n",
    "while x == x:\n",
    "    что-то"
   ]
  },
  {
   "cell_type": "markdown",
   "metadata": {},
   "source": [
    "Для циклов существуют ключевые слова break и continue. Они относятся только к циклу, в теле которого находятся (если цикл вложенный, никак не влияют на предшествующий вложенному цикл)."
   ]
  },
  {
   "cell_type": "markdown",
   "metadata": {},
   "source": [
    "break завершает цикл:"
   ]
  },
  {
   "cell_type": "code",
   "execution_count": 10,
   "metadata": {
    "collapsed": false
   },
   "outputs": [
    {
     "name": "stdout",
     "output_type": "stream",
     "text": [
      "0\n",
      "1\n",
      "2\n",
      "3\n"
     ]
    }
   ],
   "source": [
    "x = 0\n",
    "while True:\n",
    "    print(x)\n",
    "    if x == 3:\n",
    "        break\n",
    "    x += 1"
   ]
  },
  {
   "cell_type": "code",
   "execution_count": 11,
   "metadata": {
    "collapsed": false
   },
   "outputs": [
    {
     "name": "stdout",
     "output_type": "stream",
     "text": [
      "0\n",
      "2\n",
      "4\n",
      "6\n",
      "8\n",
      "10\n",
      "12\n",
      "14\n",
      "16\n",
      "18\n"
     ]
    }
   ],
   "source": [
    "x = 100000\n",
    "for i in range(x):\n",
    "    if i == 2:\n",
    "        break\n",
    "    for j in range(0, 10, 2):\n",
    "        print (10 * i + j)\n",
    "        if i == 3:\n",
    "            break"
   ]
  },
  {
   "cell_type": "code",
   "execution_count": 12,
   "metadata": {
    "collapsed": false
   },
   "outputs": [
    {
     "name": "stdout",
     "output_type": "stream",
     "text": [
      "0\n",
      "2\n",
      "10\n",
      "12\n"
     ]
    }
   ],
   "source": [
    "for i in range(2):\n",
    "    for j in range(0, 10, 2):\n",
    "        print (10 * i + j)\n",
    "        if j == 2:\n",
    "            break"
   ]
  },
  {
   "cell_type": "markdown",
   "metadata": {},
   "source": [
    "continue переводит цикл к следующей итерации (к следующей проверке условия)"
   ]
  },
  {
   "cell_type": "code",
   "execution_count": 13,
   "metadata": {
    "collapsed": false
   },
   "outputs": [
    {
     "name": "stdout",
     "output_type": "stream",
     "text": [
      "-0.25\n",
      "-0.3333333333333333\n",
      "-0.5\n",
      "-1.0\n",
      "1.0\n",
      "0.5\n",
      "0.3333333333333333\n",
      "0.25\n"
     ]
    }
   ],
   "source": [
    "x = -4\n",
    "while x < 5:\n",
    "    if x == 0:\n",
    "        x += 1\n",
    "        continue\n",
    "    print (1/x)\n",
    "    x += 1"
   ]
  },
  {
   "cell_type": "code",
   "execution_count": 14,
   "metadata": {
    "collapsed": false
   },
   "outputs": [
    {
     "name": "stdout",
     "output_type": "stream",
     "text": [
      "-0.25\n",
      "-0.3333333333333333\n",
      "-0.5\n",
      "-1.0\n",
      "1.0\n",
      "0.5\n",
      "0.3333333333333333\n",
      "0.25\n"
     ]
    }
   ],
   "source": [
    "for i in range(-4, 5):\n",
    "    if i == 0:\n",
    "        continue\n",
    "    print (1/i)"
   ]
  }
 ],
 "metadata": {
  "kernelspec": {
   "display_name": "Python [Root]",
   "language": "python",
   "name": "Python [Root]"
  },
  "language_info": {
   "codemirror_mode": {
    "name": "ipython",
    "version": 3
   },
   "file_extension": ".py",
   "mimetype": "text/x-python",
   "name": "python",
   "nbconvert_exporter": "python",
   "pygments_lexer": "ipython3",
   "version": "3.5.2"
  }
 },
 "nbformat": 4,
 "nbformat_minor": 0
}
